{
 "cells": [
  {
   "cell_type": "markdown",
   "id": "cb512cb6-f3e2-40f1-9aa5-b41220c27dbd",
   "metadata": {},
   "source": [
    "### Teradata AI Unlimited - Getting started"
   ]
  },
  {
   "cell_type": "markdown",
   "id": "205bdd8d-5c51-455d-82df-07918df16a08",
   "metadata": {},
   "source": [
    "#### Step 1: Configure notebook to be able to talk with the workspace service\n",
    "\n",
    "Parameters that are required are:\n",
    "* **host** (in the format **\"https://<IP>:3283\"** or **\"http://<IP>:3283)\"**. Use of http or https depends on if your workspace service should use TLS\n",
    "* **apikey** (value of the API key that you will see in the workspace profile page \n",
    "* **withTLS** (true or false)"
   ]
  },
  {
   "cell_type": "code",
   "execution_count": null,
   "id": "f87001a3-b2a4-40b1-a0d9-f7dc4488d293",
   "metadata": {},
   "outputs": [],
   "source": [
    "%workspaces_config host=\"http://<IP>:3282\", apikey=\"\", withtls=true"
   ]
  },
  {
   "cell_type": "markdown",
   "id": "27d5c887-fcbc-45fb-9407-df84e0e337d7",
   "metadata": {},
   "source": [
    "#### Step 2: Create your data project\n",
    "Parameters that are required are:\n",
    "* **project** (name of the project that is also going to be the name of your git repository)\n",
    "* **env** (name of the CSP provider aws/azure)"
   ]
  },
  {
   "cell_type": "code",
   "execution_count": null,
   "id": "c56b7643-8d8a-497e-9f59-808be02e5854",
   "metadata": {},
   "outputs": [],
   "source": [
    "%project_create project=, env="
   ]
  },
  {
   "cell_type": "markdown",
   "id": "1bbb5eb3-348e-4007-928f-05f863c85901",
   "metadata": {},
   "source": [
    "#### Step 3 (Optional): Create shared authorization to the object store\n",
    "Parameters that are required are:\n",
    "* **name** (name of the authorization that will be created at the deployment time)\n",
    "* **project** (name of the project to which this authorization will belong)\n",
    "* **region** (region of the object store that is going to be used with this authorization)\n",
    "  \n",
    "Object store access parameters:\n",
    "* **key** (authorization key of the object store)\n",
    "* **secret** (authorization secret of the object store)\n",
    "* **region** (region of the object store, for private)\n",
    "* **token** (session token for the object store access)\n",
    "* **role** (IAM users and/or service account to access AWS resources from another AWS account by assuming a role and its entitlements, defined by the owner of the AWS  resource)\n",
    "* **ExternalID** (required with role, the external id used to access object store)\n"
   ]
  },
  {
   "cell_type": "code",
   "execution_count": null,
   "id": "b344db3c-e61e-4da8-909f-2eaf6cb52cee",
   "metadata": {},
   "outputs": [],
   "source": [
    "%project_auth_create name=, project=, key=, secret=, region=us-west-2"
   ]
  },
  {
   "cell_type": "markdown",
   "id": "579f08bc-a9c1-400f-80d0-10ecb430d9e2",
   "metadata": {},
   "source": [
    "#### Step 4: On demand deployment of the engine\n",
    "Parameters that are required are:\n",
    "* **project** (name of the project to which this authorization will belong)\n",
    "* **size** (size of the instance to be used, small/medium/large/xlarge)\n",
    "\n",
    "Parameters that are optional:\n",
    "* **node** (the default value is 1, but you can specify how many nodes to deploy)\n",
    "\n",
    "For more details and options use ````%help project_engine_deploy````"
   ]
  },
  {
   "cell_type": "code",
   "execution_count": null,
   "id": "d09f4e9b-9302-47f5-90dd-d3f91eea2b10",
   "metadata": {},
   "outputs": [],
   "source": [
    "%project_engine_deploy project=, size=small"
   ]
  },
  {
   "cell_type": "markdown",
   "id": "69bc048e-83dc-4a81-971d-c86b5c317d60",
   "metadata": {},
   "source": [
    "#### Step 5: Connect to deployed engine \n",
    "Once engine is deployed, connection profiles are automatically created and you can connect to the engine to start executing SQL queries. AI Unlimited Jupyter kernel is built to support full SQL execution directly in the cells\n",
    "\n",
    "Connections that are automatically created (can be viewed in the connection manager extension)\n",
    "* ProjectName (setup using public IP of the engine)\n",
    "* ProjectName_private (setup using private IP of the engine)"
   ]
  },
  {
   "cell_type": "code",
   "execution_count": null,
   "id": "f83d3587-5735-48f1-98ea-ef163f247a06",
   "metadata": {},
   "outputs": [],
   "source": [
    "%connect <projectname>"
   ]
  },
  {
   "cell_type": "markdown",
   "id": "75c91f87-63cd-46a8-989b-c47bf3401267",
   "metadata": {},
   "source": [
    "#### Step 6: Write your analytical queries\n",
    "For more details, pleases look at other example notebooks in this folder"
   ]
  },
  {
   "cell_type": "markdown",
   "id": "fc55ba29-1576-4246-8e76-f38cb945d805",
   "metadata": {},
   "source": [
    "#### Step 7: Remove deployed engine\n",
    "When you are done with your work and ready to remove the engine infrastructure, until the next time you use it for the project, run the following magic command.\n",
    "\n",
    "Parameters that are required are:\n",
    "* **project** (name of the project to which this authorization will belong)"
   ]
  },
  {
   "cell_type": "code",
   "execution_count": null,
   "id": "c6e77c03-1ea4-4991-bef7-f92be5a070de",
   "metadata": {},
   "outputs": [],
   "source": [
    "%project_engine_suspend project="
   ]
  },
  {
   "cell_type": "code",
   "execution_count": null,
   "id": "da1326ef-12a7-4a61-a736-f424576c9054",
   "metadata": {},
   "outputs": [],
   "source": []
  },
  {
   "cell_type": "markdown",
   "id": "b008e42f-3efb-4921-a151-0d5049d5d902",
   "metadata": {},
   "source": [
    "### Additional magic commands\n",
    "To see additional magic commands to help you with interactions between Jupyter and engine orchestration, use:\n",
    "````%help````\n",
    "and for detailed descriptions of all the parameters, use:\n",
    "````%help <command>````\n",
    "\n",
    "Those additional options are:\n",
    "* **%project_list** - List created projects.\n",
    "* **%project_delete** - Delete given project repository.\n",
    "* **%project_backup** - Backup project metadata and created objects definition inside the engine.\n",
    "* **%project_restore** - Restore project metadata and created objects definition into the engine.\n",
    "* **%project_user_list** - List all of the colaborators to the project.\n",
    "* **%project_auth_update** - Update object store authorization.\n",
    "* **%project_auth_list** - List object store authorizations.\n",
    "* **%project_auth_delete** - Remove object store authorization.\n",
    "* **%project_engine_list** - List all of compute engine instances.\n",
    "* **%project_engine_update_users** - Update users on deployed engine.\n",
    "* **%project_engine_update_auth** - Update authorizations on deployed engine.\n",
    "* **%project_connection_add** - Refresh connection for deployed engine.\n"
   ]
  },
  {
   "cell_type": "code",
   "execution_count": null,
   "id": "cb09ab55-f953-42b1-8837-c5d43256f083",
   "metadata": {},
   "outputs": [],
   "source": []
  }
 ],
 "metadata": {
  "kernelspec": {
   "display_name": "AI Unlimited",
   "language": "Teradata SQL",
   "name": "teradatasql"
  },
  "language_info": {
   "codemirror_mode": "Teradata SQL",
   "file_extension": ".tdrs",
   "mimetype": "application/vnd.teradata.resultset",
   "name": "Teradata SQL",
   "nbconvert_exporter": "",
   "pygments_lexer": "",
   "version": "16.20"
  }
 },
 "nbformat": 4,
 "nbformat_minor": 5
}
