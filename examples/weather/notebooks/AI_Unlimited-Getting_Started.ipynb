{
 "cells": [
  {
   "cell_type": "code",
   "execution_count": 5,
   "id": "dff00a6d-9ae5-4b05-97cc-edb7df6cbe09",
   "metadata": {
    "vscode": {
     "languageId": "teradata sql"
    }
   },
   "outputs": [
    {
     "name": "stdout",
     "output_type": "stream",
     "text": [
      "Workspace service configured for host='https://192.168.2.43:3282'\n"
     ]
    }
   ],
   "source": [
    "%workspaces_config host=\"https://<IP>:3282\", withtls=true, apikey=\"\""
   ]
  },
  {
   "cell_type": "code",
   "execution_count": 6,
   "id": "7694ee1c-c9f2-434b-b619-ed731ed6a505",
   "metadata": {
    "vscode": {
     "languageId": "teradata sql"
    }
   },
   "outputs": [
    {
     "name": "stdout",
     "output_type": "stream",
     "text": [
      "Project 'legion-demo' created."
     ]
    }
   ],
   "source": [
    "%project_create project=legion-demo, env=aws"
   ]
  },
  {
   "cell_type": "code",
   "execution_count": 7,
   "id": "c20d43cc-21af-4a52-9a5e-75c6a133c26c",
   "metadata": {
    "vscode": {
     "languageId": "teradata sql"
    }
   },
   "outputs": [
    {
     "name": "stdout",
     "output_type": "stream",
     "text": [
      "┌──────────────┬────────────────────────────────────────────────────────┐\n",
      "│ NAME         │ URL                                                    │\n",
      "├──────────────┼────────────────────────────────────────────────────────┤\n",
      "│ legion10     │ https://github.com/artur-borycki_teradata/legion10     │\n",
      "├──────────────┼────────────────────────────────────────────────────────┤\n",
      "│ legion8      │ https://github.com/artur-borycki_teradata/legion8      │\n",
      "├──────────────┼────────────────────────────────────────────────────────┤\n",
      "│ legion-test  │ https://github.com/teradata-tio/legion-test            │\n",
      "├──────────────┼────────────────────────────────────────────────────────┤\n",
      "│ legion-test1 │ https://github.com/artur-borycki_teradata/legion-test1 │\n",
      "├──────────────┼────────────────────────────────────────────────────────┤\n",
      "│ skynet       │ https://github.com/artur-borycki_teradata/skynet       │\n",
      "├──────────────┼────────────────────────────────────────────────────────┤\n",
      "│ legion-demo  │ https://github.com/artur-borycki_teradata/legion-demo  │\n",
      "└──────────────┴────────────────────────────────────────────────────────┘\n"
     ]
    }
   ],
   "source": [
    "%project_list"
   ]
  },
  {
   "cell_type": "code",
   "execution_count": 8,
   "id": "fa7b1b7a-16b4-47d4-84f7-9d9c09e75986",
   "metadata": {
    "vscode": {
     "languageId": "teradata sql"
    }
   },
   "outputs": [
    {
     "name": "stdout",
     "output_type": "stream",
     "text": [
      "Authorization 'auth1' created "
     ]
    }
   ],
   "source": []
  },
  {
   "cell_type": "code",
   "execution_count": 9,
   "id": "ae36a045-1765-4f42-be1b-605b89fe224e",
   "metadata": {
    "vscode": {
     "languageId": "teradata sql"
    }
   },
   "outputs": [
    {
     "name": "stdout",
     "output_type": "stream",
     "text": [
      "┌───────────┬───────────┬───────────┬───────┬──────┬────────────┐\n",
      "│ AUTH NAME │ KEY       │ SECRET    │ TOKEN │ ROLE │ EXTERNALID │\n",
      "├───────────┼───────────┼───────────┼───────┼──────┼────────────┤\n",
      "│ auth1     │ AKIA5A*** │ MuSWsk*** │       │      │            │\n",
      "└───────────┴───────────┴───────────┴───────┴──────┴────────────┘\n"
     ]
    }
   ],
   "source": [
    "%project_auth_list project=legion-demo"
   ]
  },
  {
   "cell_type": "code",
   "execution_count": 12,
   "id": "e689c359-05d4-4e09-9519-460591e762e4",
   "metadata": {
    "vscode": {
     "languageId": "teradata sql"
    }
   },
   "outputs": [
    {
     "name": "stdout",
     "output_type": "stream",
     "text": [
      "Started deploying. Please wait ...\n",
      "provisioned (State: DEPLOYING, Duration: 50s)\n",
      "configuring (State: CONFIGURING, Done: 20% )\n",
      "configuring (State: CONFIGURING, Done: 30% )\n",
      "configuring (State: CONFIGURING, Done: 40% )\n",
      "configuring (State: CONFIGURING, Done: 50% )\n",
      "configuring (State: CONFIGURING, Done: 60% )\n",
      "configuring (State: CONFIGURING, Done: 70% )\n",
      "configuring (State: CONFIGURING, Done: 80% )\n",
      "configuring (State: CONFIGURING, Done: 90% )\n",
      "system successfully configured (State: CONFIGURING, Duration: 5m38s)\n",
      "connection successful (State: CONFIGURING, Duration: 2s)\n",
      "setup (State: CONFIGURING, Done: 15% )\n",
      "setup (State: CONFIGURING, Done: 30% )\n",
      "setup (State: CONFIGURING, Done: 45% )\n",
      "setup (State: CONFIGURING, Done: 60% )\n",
      "setup (State: CONFIGURING, Done: 75% )\n",
      "setup (State: CONFIGURING, Done: 80% )\n",
      "setup (State: CONFIGURING, Done: 100% )\n",
      "system successfully setup (State: CONFIGURING, Duration: 15s)\n",
      "system successfully setup (State: DEPLOYED, Duration: 6m46s)\n",
      "┌───────────────┬────────────────┬────────────────────────┬──────────────────────────────────┐\n",
      "│ PUBLIC IP     │ PRIVATE IP     │ USER                   │ PASSWORD                         │\n",
      "├───────────────┼────────────────┼────────────────────────┼──────────────────────────────────┤\n",
      "│ 35.93.200.165 │ 172.31.254.116 │ artur-borycki_teradata │ 3UPaoCRszdk6jncugl9xHBS4A0X15782 │\n",
      "└───────────────┴────────────────┴────────────────────────┴──────────────────────────────────┘\n"
     ]
    }
   ],
   "source": [
    "%project_engine_deploy project=legion-demo, size=medium"
   ]
  },
  {
   "cell_type": "code",
   "execution_count": 13,
   "id": "e9f7b1e2-f7ff-42e9-8c26-cd899761c802",
   "metadata": {
    "vscode": {
     "languageId": "teradata sql"
    }
   },
   "outputs": [
    {
     "name": "stdout",
     "output_type": "stream",
     "text": [
      "┌──────────┬───────────────┬────────────────┬───────────┬────────┬────────────┐\n",
      "│ STATE    │ PUBLIC IP     │ PRIVATE IP     │ REGION    │ SIZE   │ NODE COUNT │\n",
      "├──────────┼───────────────┼────────────────┼───────────┼────────┼────────────┤\n",
      "│ DEPLOYED │ 35.93.200.165 │ 172.31.254.116 │ us-west-2 │ MEDIUM │          1 │\n",
      "└──────────┴───────────────┴────────────────┴───────────┴────────┴────────────┘\n"
     ]
    }
   ],
   "source": [
    "%project_engine_list project=legion-demo"
   ]
  },
  {
   "cell_type": "code",
   "execution_count": 14,
   "id": "2fae97eb-52e3-4992-a53d-8a8c11c2d3eb",
   "metadata": {
    "vscode": {
     "languageId": "teradata sql"
    }
   },
   "outputs": [
    {
     "name": "stdout",
     "output_type": "stream",
     "text": [
      "Started suspend. Success: connection removed\n",
      "Success: connection removed\n",
      "Success: Suspending Compute Engine\n"
     ]
    }
   ],
   "source": [
    "%project_engine_suspend project=legion-demo"
   ]
  },
  {
   "cell_type": "code",
   "execution_count": null,
   "id": "72815d7f-82ed-451a-9e18-8b44ed4c621b",
   "metadata": {
    "vscode": {
     "languageId": "teradata sql"
    }
   },
   "outputs": [],
   "source": []
  }
 ],
 "metadata": {
  "kernelspec": {
   "display_name": "AI Unlimited",
   "language": "Teradata SQL",
   "name": "teradatasql"
  },
  "language_info": {
   "codemirror_mode": "Teradata SQL",
   "file_extension": ".tdrs",
   "mimetype": "application/vnd.teradata.resultset",
   "name": "Teradata SQL",
   "nbconvert_exporter": "",
   "pygments_lexer": "",
   "version": "16.20"
  }
 },
 "nbformat": 4,
 "nbformat_minor": 5
}
